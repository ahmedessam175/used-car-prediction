{
 "cells": [
  {
   "cell_type": "code",
   "execution_count": 1,
   "id": "7538c8a0",
   "metadata": {},
   "outputs": [],
   "source": [
    "import numpy as np \n",
    "import pandas as pd \n",
    "import matplotlib.pyplot as plt\n",
    "import seaborn as sns \n",
    "import plotly.express as px  "
   ]
  },
  {
   "cell_type": "code",
   "execution_count": 2,
   "id": "595170c3",
   "metadata": {},
   "outputs": [
    {
     "data": {
      "text/html": [
       "<div>\n",
       "<style scoped>\n",
       "    .dataframe tbody tr th:only-of-type {\n",
       "        vertical-align: middle;\n",
       "    }\n",
       "\n",
       "    .dataframe tbody tr th {\n",
       "        vertical-align: top;\n",
       "    }\n",
       "\n",
       "    .dataframe thead th {\n",
       "        text-align: right;\n",
       "    }\n",
       "</style>\n",
       "<table border=\"1\" class=\"dataframe\">\n",
       "  <thead>\n",
       "    <tr style=\"text-align: right;\">\n",
       "      <th></th>\n",
       "      <th>Name</th>\n",
       "      <th>Location</th>\n",
       "      <th>Year</th>\n",
       "      <th>Kilometers_Driven</th>\n",
       "      <th>Fuel_Type</th>\n",
       "      <th>Transmission</th>\n",
       "      <th>Owner_Type</th>\n",
       "      <th>Mileage</th>\n",
       "      <th>Engine</th>\n",
       "      <th>Power</th>\n",
       "      <th>Seats</th>\n",
       "      <th>New_Price</th>\n",
       "      <th>Price</th>\n",
       "    </tr>\n",
       "  </thead>\n",
       "  <tbody>\n",
       "    <tr>\n",
       "      <th>0</th>\n",
       "      <td>Maruti Wagon R LXI CNG</td>\n",
       "      <td>Mumbai</td>\n",
       "      <td>2010</td>\n",
       "      <td>72000</td>\n",
       "      <td>CNG</td>\n",
       "      <td>Manual</td>\n",
       "      <td>First</td>\n",
       "      <td>26.6 km/kg</td>\n",
       "      <td>998 CC</td>\n",
       "      <td>58.16 bhp</td>\n",
       "      <td>5.0</td>\n",
       "      <td>NaN</td>\n",
       "      <td>1.75</td>\n",
       "    </tr>\n",
       "    <tr>\n",
       "      <th>1</th>\n",
       "      <td>Hyundai Creta 1.6 CRDi SX Option</td>\n",
       "      <td>Pune</td>\n",
       "      <td>2015</td>\n",
       "      <td>41000</td>\n",
       "      <td>Diesel</td>\n",
       "      <td>Manual</td>\n",
       "      <td>First</td>\n",
       "      <td>19.67 kmpl</td>\n",
       "      <td>1582 CC</td>\n",
       "      <td>126.2 bhp</td>\n",
       "      <td>5.0</td>\n",
       "      <td>NaN</td>\n",
       "      <td>12.50</td>\n",
       "    </tr>\n",
       "    <tr>\n",
       "      <th>2</th>\n",
       "      <td>Honda Jazz V</td>\n",
       "      <td>Chennai</td>\n",
       "      <td>2011</td>\n",
       "      <td>46000</td>\n",
       "      <td>Petrol</td>\n",
       "      <td>Manual</td>\n",
       "      <td>First</td>\n",
       "      <td>18.2 kmpl</td>\n",
       "      <td>1199 CC</td>\n",
       "      <td>88.7 bhp</td>\n",
       "      <td>5.0</td>\n",
       "      <td>8.61 Lakh</td>\n",
       "      <td>4.50</td>\n",
       "    </tr>\n",
       "  </tbody>\n",
       "</table>\n",
       "</div>"
      ],
      "text/plain": [
       "                               Name Location  Year  Kilometers_Driven  \\\n",
       "0            Maruti Wagon R LXI CNG   Mumbai  2010              72000   \n",
       "1  Hyundai Creta 1.6 CRDi SX Option     Pune  2015              41000   \n",
       "2                      Honda Jazz V  Chennai  2011              46000   \n",
       "\n",
       "  Fuel_Type Transmission Owner_Type     Mileage   Engine      Power  Seats  \\\n",
       "0       CNG       Manual      First  26.6 km/kg   998 CC  58.16 bhp    5.0   \n",
       "1    Diesel       Manual      First  19.67 kmpl  1582 CC  126.2 bhp    5.0   \n",
       "2    Petrol       Manual      First   18.2 kmpl  1199 CC   88.7 bhp    5.0   \n",
       "\n",
       "   New_Price  Price  \n",
       "0        NaN   1.75  \n",
       "1        NaN  12.50  \n",
       "2  8.61 Lakh   4.50  "
      ]
     },
     "execution_count": 2,
     "metadata": {},
     "output_type": "execute_result"
    }
   ],
   "source": [
    "data=pd.read_csv('train.csv')\n",
    "data.head(3)"
   ]
  },
  {
   "cell_type": "code",
   "execution_count": 3,
   "id": "a714c3d0",
   "metadata": {},
   "outputs": [
    {
     "name": "stdout",
     "output_type": "stream",
     "text": [
      "<class 'pandas.core.frame.DataFrame'>\n",
      "RangeIndex: 6019 entries, 0 to 6018\n",
      "Data columns (total 13 columns):\n",
      " #   Column             Non-Null Count  Dtype  \n",
      "---  ------             --------------  -----  \n",
      " 0   Name               6019 non-null   object \n",
      " 1   Location           6019 non-null   object \n",
      " 2   Year               6019 non-null   int64  \n",
      " 3   Kilometers_Driven  6019 non-null   int64  \n",
      " 4   Fuel_Type          6019 non-null   object \n",
      " 5   Transmission       6019 non-null   object \n",
      " 6   Owner_Type         6019 non-null   object \n",
      " 7   Mileage            6017 non-null   object \n",
      " 8   Engine             5983 non-null   object \n",
      " 9   Power              5983 non-null   object \n",
      " 10  Seats              5977 non-null   float64\n",
      " 11  New_Price          824 non-null    object \n",
      " 12  Price              6019 non-null   float64\n",
      "dtypes: float64(2), int64(2), object(9)\n",
      "memory usage: 611.4+ KB\n"
     ]
    }
   ],
   "source": [
    "data.info()"
   ]
  },
  {
   "cell_type": "code",
   "execution_count": 4,
   "id": "2c3f435c",
   "metadata": {},
   "outputs": [
    {
     "data": {
      "text/html": [
       "<div>\n",
       "<style scoped>\n",
       "    .dataframe tbody tr th:only-of-type {\n",
       "        vertical-align: middle;\n",
       "    }\n",
       "\n",
       "    .dataframe tbody tr th {\n",
       "        vertical-align: top;\n",
       "    }\n",
       "\n",
       "    .dataframe thead th {\n",
       "        text-align: right;\n",
       "    }\n",
       "</style>\n",
       "<table border=\"1\" class=\"dataframe\">\n",
       "  <thead>\n",
       "    <tr style=\"text-align: right;\">\n",
       "      <th></th>\n",
       "      <th>Year</th>\n",
       "      <th>Kilometers_Driven</th>\n",
       "      <th>Seats</th>\n",
       "      <th>Price</th>\n",
       "    </tr>\n",
       "  </thead>\n",
       "  <tbody>\n",
       "    <tr>\n",
       "      <th>count</th>\n",
       "      <td>6019.000000</td>\n",
       "      <td>6.019000e+03</td>\n",
       "      <td>5977.000000</td>\n",
       "      <td>6019.000000</td>\n",
       "    </tr>\n",
       "    <tr>\n",
       "      <th>mean</th>\n",
       "      <td>2013.358199</td>\n",
       "      <td>5.873838e+04</td>\n",
       "      <td>5.278735</td>\n",
       "      <td>9.479468</td>\n",
       "    </tr>\n",
       "    <tr>\n",
       "      <th>std</th>\n",
       "      <td>3.269742</td>\n",
       "      <td>9.126884e+04</td>\n",
       "      <td>0.808840</td>\n",
       "      <td>11.187917</td>\n",
       "    </tr>\n",
       "    <tr>\n",
       "      <th>min</th>\n",
       "      <td>1998.000000</td>\n",
       "      <td>1.710000e+02</td>\n",
       "      <td>0.000000</td>\n",
       "      <td>0.440000</td>\n",
       "    </tr>\n",
       "    <tr>\n",
       "      <th>25%</th>\n",
       "      <td>2011.000000</td>\n",
       "      <td>3.400000e+04</td>\n",
       "      <td>5.000000</td>\n",
       "      <td>3.500000</td>\n",
       "    </tr>\n",
       "    <tr>\n",
       "      <th>50%</th>\n",
       "      <td>2014.000000</td>\n",
       "      <td>5.300000e+04</td>\n",
       "      <td>5.000000</td>\n",
       "      <td>5.640000</td>\n",
       "    </tr>\n",
       "    <tr>\n",
       "      <th>75%</th>\n",
       "      <td>2016.000000</td>\n",
       "      <td>7.300000e+04</td>\n",
       "      <td>5.000000</td>\n",
       "      <td>9.950000</td>\n",
       "    </tr>\n",
       "    <tr>\n",
       "      <th>max</th>\n",
       "      <td>2019.000000</td>\n",
       "      <td>6.500000e+06</td>\n",
       "      <td>10.000000</td>\n",
       "      <td>160.000000</td>\n",
       "    </tr>\n",
       "  </tbody>\n",
       "</table>\n",
       "</div>"
      ],
      "text/plain": [
       "              Year  Kilometers_Driven        Seats        Price\n",
       "count  6019.000000       6.019000e+03  5977.000000  6019.000000\n",
       "mean   2013.358199       5.873838e+04     5.278735     9.479468\n",
       "std       3.269742       9.126884e+04     0.808840    11.187917\n",
       "min    1998.000000       1.710000e+02     0.000000     0.440000\n",
       "25%    2011.000000       3.400000e+04     5.000000     3.500000\n",
       "50%    2014.000000       5.300000e+04     5.000000     5.640000\n",
       "75%    2016.000000       7.300000e+04     5.000000     9.950000\n",
       "max    2019.000000       6.500000e+06    10.000000   160.000000"
      ]
     },
     "execution_count": 4,
     "metadata": {},
     "output_type": "execute_result"
    }
   ],
   "source": [
    "data.describe()"
   ]
  },
  {
   "cell_type": "code",
   "execution_count": 5,
   "id": "cf84bd9c",
   "metadata": {},
   "outputs": [
    {
     "data": {
      "text/plain": [
       "Name                    0\n",
       "Location                0\n",
       "Year                    0\n",
       "Kilometers_Driven       0\n",
       "Fuel_Type               0\n",
       "Transmission            0\n",
       "Owner_Type              0\n",
       "Mileage                 2\n",
       "Engine                 36\n",
       "Power                  36\n",
       "Seats                  42\n",
       "New_Price            5195\n",
       "Price                   0\n",
       "dtype: int64"
      ]
     },
     "execution_count": 5,
     "metadata": {},
     "output_type": "execute_result"
    }
   ],
   "source": [
    "data.isnull().sum()"
   ]
  },
  {
   "cell_type": "code",
   "execution_count": 6,
   "id": "09c1de4f",
   "metadata": {},
   "outputs": [],
   "source": [
    "data.drop('New_Price' , axis=1 , inplace=True)"
   ]
  },
  {
   "cell_type": "code",
   "execution_count": 7,
   "id": "2719300e",
   "metadata": {},
   "outputs": [
    {
     "data": {
      "text/plain": [
       "Name                 0.00\n",
       "Location             0.00\n",
       "Year                 0.00\n",
       "Kilometers_Driven    0.00\n",
       "Fuel_Type            0.00\n",
       "Transmission         0.00\n",
       "Owner_Type           0.00\n",
       "Mileage              0.03\n",
       "Engine               0.60\n",
       "Power                0.60\n",
       "Seats                0.70\n",
       "Price                0.00\n",
       "dtype: float64"
      ]
     },
     "execution_count": 7,
     "metadata": {},
     "output_type": "execute_result"
    }
   ],
   "source": [
    "round(data.isna().mean()*100 ,2)"
   ]
  },
  {
   "cell_type": "code",
   "execution_count": 8,
   "id": "f66f30c3",
   "metadata": {},
   "outputs": [],
   "source": [
    "data.dropna(inplace=True)"
   ]
  },
  {
   "cell_type": "code",
   "execution_count": 9,
   "id": "2effad18",
   "metadata": {},
   "outputs": [
    {
     "data": {
      "text/plain": [
       "Name                 0.0\n",
       "Location             0.0\n",
       "Year                 0.0\n",
       "Kilometers_Driven    0.0\n",
       "Fuel_Type            0.0\n",
       "Transmission         0.0\n",
       "Owner_Type           0.0\n",
       "Mileage              0.0\n",
       "Engine               0.0\n",
       "Power                0.0\n",
       "Seats                0.0\n",
       "Price                0.0\n",
       "dtype: float64"
      ]
     },
     "execution_count": 9,
     "metadata": {},
     "output_type": "execute_result"
    }
   ],
   "source": [
    "round(data.isna().mean()*100 ,2)"
   ]
  },
  {
   "cell_type": "code",
   "execution_count": 10,
   "id": "7830e4bc",
   "metadata": {},
   "outputs": [
    {
     "data": {
      "text/plain": [
       "Index(['Name', 'Location', 'Year', 'Kilometers_Driven', 'Fuel_Type',\n",
       "       'Transmission', 'Owner_Type', 'Mileage', 'Engine', 'Power', 'Seats',\n",
       "       'Price'],\n",
       "      dtype='object')"
      ]
     },
     "execution_count": 10,
     "metadata": {},
     "output_type": "execute_result"
    }
   ],
   "source": [
    "data.columns"
   ]
  },
  {
   "cell_type": "code",
   "execution_count": 11,
   "id": "48213cfb",
   "metadata": {},
   "outputs": [
    {
     "data": {
      "text/plain": [
       "Mahindra XUV500 W8 2WD           49\n",
       "Maruti Swift VDI                 45\n",
       "Honda City 1.5 S MT              34\n",
       "Maruti Swift Dzire VDI           34\n",
       "Maruti Swift VDI BSIV            31\n",
       "                                 ..\n",
       "Ford Fiesta Titanium 1.5 TDCi     1\n",
       "Mahindra Scorpio S10 AT 4WD       1\n",
       "Hyundai i20 1.2 Era               1\n",
       "Toyota Camry W4 (AT)              1\n",
       "Mahindra Xylo D4 BSIV             1\n",
       "Name: Name, Length: 1855, dtype: int64"
      ]
     },
     "execution_count": 11,
     "metadata": {},
     "output_type": "execute_result"
    }
   ],
   "source": [
    "data.Name.value_counts()"
   ]
  },
  {
   "cell_type": "code",
   "execution_count": 12,
   "id": "09aa1f47",
   "metadata": {},
   "outputs": [
    {
     "data": {
      "text/plain": [
       "Mumbai        784\n",
       "Hyderabad     741\n",
       "Kochi         648\n",
       "Coimbatore    634\n",
       "Pune          613\n",
       "Delhi         549\n",
       "Kolkata       530\n",
       "Chennai       490\n",
       "Jaipur        410\n",
       "Bangalore     353\n",
       "Ahmedabad     223\n",
       "Name: Location, dtype: int64"
      ]
     },
     "execution_count": 12,
     "metadata": {},
     "output_type": "execute_result"
    }
   ],
   "source": [
    "data.Location.value_counts()"
   ]
  },
  {
   "cell_type": "code",
   "execution_count": 13,
   "id": "18789d58",
   "metadata": {},
   "outputs": [
    {
     "data": {
      "text/plain": [
       "2014    795\n",
       "2015    741\n",
       "2016    740\n",
       "2013    648\n",
       "2017    586\n",
       "2012    572\n",
       "2011    461\n",
       "2010    339\n",
       "2018    298\n",
       "2009    196\n",
       "2008    169\n",
       "2007    123\n",
       "2019    102\n",
       "2006     75\n",
       "2005     55\n",
       "2004     29\n",
       "2003     15\n",
       "2002     14\n",
       "2001      7\n",
       "2000      4\n",
       "1998      4\n",
       "1999      2\n",
       "Name: Year, dtype: int64"
      ]
     },
     "execution_count": 13,
     "metadata": {},
     "output_type": "execute_result"
    }
   ],
   "source": [
    "data.Year.value_counts()"
   ]
  },
  {
   "cell_type": "code",
   "execution_count": 14,
   "id": "f6695865",
   "metadata": {},
   "outputs": [
    {
     "data": {
      "text/plain": [
       "<bound method IndexOpsMixin.value_counts of 0          CNG\n",
       "1       Diesel\n",
       "2       Petrol\n",
       "3       Diesel\n",
       "4       Diesel\n",
       "         ...  \n",
       "6014    Diesel\n",
       "6015    Diesel\n",
       "6016    Diesel\n",
       "6017    Petrol\n",
       "6018    Diesel\n",
       "Name: Fuel_Type, Length: 5975, dtype: object>"
      ]
     },
     "execution_count": 14,
     "metadata": {},
     "output_type": "execute_result"
    }
   ],
   "source": [
    "data.Fuel_Type.value_counts"
   ]
  },
  {
   "cell_type": "code",
   "execution_count": 15,
   "id": "51a68104",
   "metadata": {},
   "outputs": [
    {
     "data": {
      "text/plain": [
       "First             4903\n",
       "Second             953\n",
       "Third              111\n",
       "Fourth & Above       8\n",
       "Name: Owner_Type, dtype: int64"
      ]
     },
     "execution_count": 15,
     "metadata": {},
     "output_type": "execute_result"
    }
   ],
   "source": [
    "data.Owner_Type.value_counts()"
   ]
  },
  {
   "cell_type": "code",
   "execution_count": 16,
   "id": "da1e621c",
   "metadata": {},
   "outputs": [
    {
     "name": "stdout",
     "output_type": "stream",
     "text": [
      "Mahindra XUV500 W8 2WD           49\n",
      "Maruti Swift VDI                 45\n",
      "Honda City 1.5 S MT              34\n",
      "Maruti Swift Dzire VDI           34\n",
      "Maruti Swift VDI BSIV            31\n",
      "                                 ..\n",
      "Ford Fiesta Titanium 1.5 TDCi     1\n",
      "Mahindra Scorpio S10 AT 4WD       1\n",
      "Hyundai i20 1.2 Era               1\n",
      "Toyota Camry W4 (AT)              1\n",
      "Mahindra Xylo D4 BSIV             1\n",
      "Name: Name, Length: 1855, dtype: int64\n",
      "****************************************************************************************************\n",
      "Mumbai        784\n",
      "Hyderabad     741\n",
      "Kochi         648\n",
      "Coimbatore    634\n",
      "Pune          613\n",
      "Delhi         549\n",
      "Kolkata       530\n",
      "Chennai       490\n",
      "Jaipur        410\n",
      "Bangalore     353\n",
      "Ahmedabad     223\n",
      "Name: Location, dtype: int64\n",
      "****************************************************************************************************\n",
      "Diesel    3195\n",
      "Petrol    2714\n",
      "CNG         56\n",
      "LPG         10\n",
      "Name: Fuel_Type, dtype: int64\n",
      "****************************************************************************************************\n",
      "Manual       4266\n",
      "Automatic    1709\n",
      "Name: Transmission, dtype: int64\n",
      "****************************************************************************************************\n",
      "First             4903\n",
      "Second             953\n",
      "Third              111\n",
      "Fourth & Above       8\n",
      "Name: Owner_Type, dtype: int64\n",
      "****************************************************************************************************\n",
      "18.9 kmpl     172\n",
      "17.0 kmpl     170\n",
      "18.6 kmpl     119\n",
      "20.36 kmpl     88\n",
      "21.1 kmpl      86\n",
      "             ... \n",
      "14.57 kmpl      1\n",
      "14.33 kmpl      1\n",
      "22.8 km/kg      1\n",
      "8.0 kmpl        1\n",
      "17.24 kmpl      1\n",
      "Name: Mileage, Length: 442, dtype: int64\n",
      "****************************************************************************************************\n",
      "1197 CC    606\n",
      "1248 CC    512\n",
      "1498 CC    303\n",
      "998 CC     259\n",
      "2179 CC    240\n",
      "          ... \n",
      "1489 CC      1\n",
      "1422 CC      1\n",
      "1978 CC      1\n",
      "2694 CC      1\n",
      "1797 CC      1\n",
      "Name: Engine, Length: 145, dtype: int64\n",
      "****************************************************************************************************\n",
      "74 bhp        235\n",
      "98.6 bhp      131\n",
      "73.9 bhp      125\n",
      "140 bhp       123\n",
      "78.9 bhp      111\n",
      "             ... \n",
      "201 bhp         1\n",
      "199.3 bhp       1\n",
      "95 bhp          1\n",
      "152.88 bhp      1\n",
      "181.04 bhp      1\n",
      "Name: Power, Length: 371, dtype: int64\n",
      "****************************************************************************************************\n"
     ]
    }
   ],
   "source": [
    "categorical_col=data.select_dtypes(include='object')\n",
    "for col in categorical_col:\n",
    "    print(data[col].value_counts())\n",
    "    print('*'*100)"
   ]
  },
  {
   "cell_type": "code",
   "execution_count": 17,
   "id": "90a1f0ac",
   "metadata": {},
   "outputs": [
    {
     "data": {
      "text/html": [
       "<div>\n",
       "<style scoped>\n",
       "    .dataframe tbody tr th:only-of-type {\n",
       "        vertical-align: middle;\n",
       "    }\n",
       "\n",
       "    .dataframe tbody tr th {\n",
       "        vertical-align: top;\n",
       "    }\n",
       "\n",
       "    .dataframe thead th {\n",
       "        text-align: right;\n",
       "    }\n",
       "</style>\n",
       "<table border=\"1\" class=\"dataframe\">\n",
       "  <thead>\n",
       "    <tr style=\"text-align: right;\">\n",
       "      <th></th>\n",
       "      <th>Name</th>\n",
       "      <th>Location</th>\n",
       "      <th>Year</th>\n",
       "      <th>Kilometers_Driven</th>\n",
       "      <th>Fuel_Type</th>\n",
       "      <th>Transmission</th>\n",
       "      <th>Owner_Type</th>\n",
       "      <th>Mileage</th>\n",
       "      <th>Engine</th>\n",
       "      <th>Power</th>\n",
       "      <th>Seats</th>\n",
       "      <th>Price</th>\n",
       "    </tr>\n",
       "  </thead>\n",
       "  <tbody>\n",
       "    <tr>\n",
       "      <th>3315</th>\n",
       "      <td>Maruti Ertiga VDI</td>\n",
       "      <td>Pune</td>\n",
       "      <td>2012</td>\n",
       "      <td>168000</td>\n",
       "      <td>Diesel</td>\n",
       "      <td>Manual</td>\n",
       "      <td>First</td>\n",
       "      <td>20.77 kmpl</td>\n",
       "      <td>1248 CC</td>\n",
       "      <td>88.76 bhp</td>\n",
       "      <td>7.0</td>\n",
       "      <td>4.50</td>\n",
       "    </tr>\n",
       "    <tr>\n",
       "      <th>5708</th>\n",
       "      <td>Honda BRV i-VTEC V CVT</td>\n",
       "      <td>Mumbai</td>\n",
       "      <td>2017</td>\n",
       "      <td>16503</td>\n",
       "      <td>Petrol</td>\n",
       "      <td>Automatic</td>\n",
       "      <td>First</td>\n",
       "      <td>16.0 kmpl</td>\n",
       "      <td>1497 CC</td>\n",
       "      <td>117.3 bhp</td>\n",
       "      <td>7.0</td>\n",
       "      <td>9.50</td>\n",
       "    </tr>\n",
       "    <tr>\n",
       "      <th>1372</th>\n",
       "      <td>Hyundai Creta 1.6 VTVT E Plus</td>\n",
       "      <td>Bangalore</td>\n",
       "      <td>2017</td>\n",
       "      <td>26246</td>\n",
       "      <td>Petrol</td>\n",
       "      <td>Manual</td>\n",
       "      <td>First</td>\n",
       "      <td>15.29 kmpl</td>\n",
       "      <td>1591 CC</td>\n",
       "      <td>121.3 bhp</td>\n",
       "      <td>5.0</td>\n",
       "      <td>10.75</td>\n",
       "    </tr>\n",
       "  </tbody>\n",
       "</table>\n",
       "</div>"
      ],
      "text/plain": [
       "                               Name   Location  Year  Kilometers_Driven  \\\n",
       "3315              Maruti Ertiga VDI       Pune  2012             168000   \n",
       "5708         Honda BRV i-VTEC V CVT     Mumbai  2017              16503   \n",
       "1372  Hyundai Creta 1.6 VTVT E Plus  Bangalore  2017              26246   \n",
       "\n",
       "     Fuel_Type Transmission Owner_Type     Mileage   Engine      Power  Seats  \\\n",
       "3315    Diesel       Manual      First  20.77 kmpl  1248 CC  88.76 bhp    7.0   \n",
       "5708    Petrol    Automatic      First   16.0 kmpl  1497 CC  117.3 bhp    7.0   \n",
       "1372    Petrol       Manual      First  15.29 kmpl  1591 CC  121.3 bhp    5.0   \n",
       "\n",
       "      Price  \n",
       "3315   4.50  \n",
       "5708   9.50  \n",
       "1372  10.75  "
      ]
     },
     "execution_count": 17,
     "metadata": {},
     "output_type": "execute_result"
    }
   ],
   "source": [
    "data.sample(3)"
   ]
  },
  {
   "cell_type": "code",
   "execution_count": 18,
   "id": "3aedc720",
   "metadata": {},
   "outputs": [],
   "source": [
    "data['Brand']=data.Name.str.split(' ').str[0]\n",
    "data['Model']=data.Name.str.split(' ').str[1]"
   ]
  },
  {
   "cell_type": "code",
   "execution_count": 19,
   "id": "65404091",
   "metadata": {},
   "outputs": [
    {
     "data": {
      "text/html": [
       "<div>\n",
       "<style scoped>\n",
       "    .dataframe tbody tr th:only-of-type {\n",
       "        vertical-align: middle;\n",
       "    }\n",
       "\n",
       "    .dataframe tbody tr th {\n",
       "        vertical-align: top;\n",
       "    }\n",
       "\n",
       "    .dataframe thead th {\n",
       "        text-align: right;\n",
       "    }\n",
       "</style>\n",
       "<table border=\"1\" class=\"dataframe\">\n",
       "  <thead>\n",
       "    <tr style=\"text-align: right;\">\n",
       "      <th></th>\n",
       "      <th>Name</th>\n",
       "      <th>Location</th>\n",
       "      <th>Year</th>\n",
       "      <th>Kilometers_Driven</th>\n",
       "      <th>Fuel_Type</th>\n",
       "      <th>Transmission</th>\n",
       "      <th>Owner_Type</th>\n",
       "      <th>Mileage</th>\n",
       "      <th>Engine</th>\n",
       "      <th>Power</th>\n",
       "      <th>Seats</th>\n",
       "      <th>Price</th>\n",
       "      <th>Brand</th>\n",
       "      <th>Model</th>\n",
       "    </tr>\n",
       "  </thead>\n",
       "  <tbody>\n",
       "    <tr>\n",
       "      <th>3616</th>\n",
       "      <td>Maruti Ertiga ZDI</td>\n",
       "      <td>Chennai</td>\n",
       "      <td>2015</td>\n",
       "      <td>40000</td>\n",
       "      <td>Diesel</td>\n",
       "      <td>Manual</td>\n",
       "      <td>First</td>\n",
       "      <td>20.77 kmpl</td>\n",
       "      <td>1248 CC</td>\n",
       "      <td>88.8 bhp</td>\n",
       "      <td>7.0</td>\n",
       "      <td>8.25</td>\n",
       "      <td>Maruti</td>\n",
       "      <td>Ertiga</td>\n",
       "    </tr>\n",
       "    <tr>\n",
       "      <th>3307</th>\n",
       "      <td>Toyota Etios Liva GD</td>\n",
       "      <td>Delhi</td>\n",
       "      <td>2013</td>\n",
       "      <td>64000</td>\n",
       "      <td>Diesel</td>\n",
       "      <td>Manual</td>\n",
       "      <td>First</td>\n",
       "      <td>23.59 kmpl</td>\n",
       "      <td>1364 CC</td>\n",
       "      <td>67.06 bhp</td>\n",
       "      <td>5.0</td>\n",
       "      <td>3.10</td>\n",
       "      <td>Toyota</td>\n",
       "      <td>Etios</td>\n",
       "    </tr>\n",
       "    <tr>\n",
       "      <th>3019</th>\n",
       "      <td>Honda City i DTEC V</td>\n",
       "      <td>Ahmedabad</td>\n",
       "      <td>2015</td>\n",
       "      <td>77000</td>\n",
       "      <td>Diesel</td>\n",
       "      <td>Manual</td>\n",
       "      <td>First</td>\n",
       "      <td>26.0 kmpl</td>\n",
       "      <td>1498 CC</td>\n",
       "      <td>98.6 bhp</td>\n",
       "      <td>5.0</td>\n",
       "      <td>6.98</td>\n",
       "      <td>Honda</td>\n",
       "      <td>City</td>\n",
       "    </tr>\n",
       "  </tbody>\n",
       "</table>\n",
       "</div>"
      ],
      "text/plain": [
       "                      Name   Location  Year  Kilometers_Driven Fuel_Type  \\\n",
       "3616     Maruti Ertiga ZDI    Chennai  2015              40000    Diesel   \n",
       "3307  Toyota Etios Liva GD      Delhi  2013              64000    Diesel   \n",
       "3019   Honda City i DTEC V  Ahmedabad  2015              77000    Diesel   \n",
       "\n",
       "     Transmission Owner_Type     Mileage   Engine      Power  Seats  Price  \\\n",
       "3616       Manual      First  20.77 kmpl  1248 CC   88.8 bhp    7.0   8.25   \n",
       "3307       Manual      First  23.59 kmpl  1364 CC  67.06 bhp    5.0   3.10   \n",
       "3019       Manual      First   26.0 kmpl  1498 CC   98.6 bhp    5.0   6.98   \n",
       "\n",
       "       Brand   Model  \n",
       "3616  Maruti  Ertiga  \n",
       "3307  Toyota   Etios  \n",
       "3019   Honda    City  "
      ]
     },
     "execution_count": 19,
     "metadata": {},
     "output_type": "execute_result"
    }
   ],
   "source": [
    "data.sample(3)"
   ]
  },
  {
   "cell_type": "code",
   "execution_count": 20,
   "id": "b7b69f1d",
   "metadata": {},
   "outputs": [],
   "source": [
    "data.drop('Name',axis=1 , inplace=True)"
   ]
  },
  {
   "cell_type": "code",
   "execution_count": 21,
   "id": "f0e2561a",
   "metadata": {},
   "outputs": [],
   "source": [
    "data['Owner_Type']=data['Owner_Type'].map({'First':1 , 'Second':2 , 'Third':3 ,'Fourth & Above':4})"
   ]
  },
  {
   "cell_type": "code",
   "execution_count": 22,
   "id": "e28a9314",
   "metadata": {},
   "outputs": [],
   "source": [
    "data['Engine']=data['Engine'].str.split(' ').str[0]\n",
    "data['Power']=data['Power'].str.split(' ').str[0]"
   ]
  },
  {
   "cell_type": "code",
   "execution_count": 23,
   "id": "0884ab16",
   "metadata": {},
   "outputs": [
    {
     "data": {
      "text/html": [
       "<div>\n",
       "<style scoped>\n",
       "    .dataframe tbody tr th:only-of-type {\n",
       "        vertical-align: middle;\n",
       "    }\n",
       "\n",
       "    .dataframe tbody tr th {\n",
       "        vertical-align: top;\n",
       "    }\n",
       "\n",
       "    .dataframe thead th {\n",
       "        text-align: right;\n",
       "    }\n",
       "</style>\n",
       "<table border=\"1\" class=\"dataframe\">\n",
       "  <thead>\n",
       "    <tr style=\"text-align: right;\">\n",
       "      <th></th>\n",
       "      <th>Location</th>\n",
       "      <th>Year</th>\n",
       "      <th>Kilometers_Driven</th>\n",
       "      <th>Fuel_Type</th>\n",
       "      <th>Transmission</th>\n",
       "      <th>Owner_Type</th>\n",
       "      <th>Mileage</th>\n",
       "      <th>Engine</th>\n",
       "      <th>Power</th>\n",
       "      <th>Seats</th>\n",
       "      <th>Price</th>\n",
       "      <th>Brand</th>\n",
       "      <th>Model</th>\n",
       "    </tr>\n",
       "  </thead>\n",
       "  <tbody>\n",
       "    <tr>\n",
       "      <th>0</th>\n",
       "      <td>Mumbai</td>\n",
       "      <td>2010</td>\n",
       "      <td>72000</td>\n",
       "      <td>CNG</td>\n",
       "      <td>Manual</td>\n",
       "      <td>1</td>\n",
       "      <td>26.6 km/kg</td>\n",
       "      <td>998</td>\n",
       "      <td>58.16</td>\n",
       "      <td>5.0</td>\n",
       "      <td>1.75</td>\n",
       "      <td>Maruti</td>\n",
       "      <td>Wagon</td>\n",
       "    </tr>\n",
       "    <tr>\n",
       "      <th>1</th>\n",
       "      <td>Pune</td>\n",
       "      <td>2015</td>\n",
       "      <td>41000</td>\n",
       "      <td>Diesel</td>\n",
       "      <td>Manual</td>\n",
       "      <td>1</td>\n",
       "      <td>19.67 kmpl</td>\n",
       "      <td>1582</td>\n",
       "      <td>126.2</td>\n",
       "      <td>5.0</td>\n",
       "      <td>12.50</td>\n",
       "      <td>Hyundai</td>\n",
       "      <td>Creta</td>\n",
       "    </tr>\n",
       "    <tr>\n",
       "      <th>2</th>\n",
       "      <td>Chennai</td>\n",
       "      <td>2011</td>\n",
       "      <td>46000</td>\n",
       "      <td>Petrol</td>\n",
       "      <td>Manual</td>\n",
       "      <td>1</td>\n",
       "      <td>18.2 kmpl</td>\n",
       "      <td>1199</td>\n",
       "      <td>88.7</td>\n",
       "      <td>5.0</td>\n",
       "      <td>4.50</td>\n",
       "      <td>Honda</td>\n",
       "      <td>Jazz</td>\n",
       "    </tr>\n",
       "    <tr>\n",
       "      <th>3</th>\n",
       "      <td>Chennai</td>\n",
       "      <td>2012</td>\n",
       "      <td>87000</td>\n",
       "      <td>Diesel</td>\n",
       "      <td>Manual</td>\n",
       "      <td>1</td>\n",
       "      <td>20.77 kmpl</td>\n",
       "      <td>1248</td>\n",
       "      <td>88.76</td>\n",
       "      <td>7.0</td>\n",
       "      <td>6.00</td>\n",
       "      <td>Maruti</td>\n",
       "      <td>Ertiga</td>\n",
       "    </tr>\n",
       "    <tr>\n",
       "      <th>4</th>\n",
       "      <td>Coimbatore</td>\n",
       "      <td>2013</td>\n",
       "      <td>40670</td>\n",
       "      <td>Diesel</td>\n",
       "      <td>Automatic</td>\n",
       "      <td>2</td>\n",
       "      <td>15.2 kmpl</td>\n",
       "      <td>1968</td>\n",
       "      <td>140.8</td>\n",
       "      <td>5.0</td>\n",
       "      <td>17.74</td>\n",
       "      <td>Audi</td>\n",
       "      <td>A4</td>\n",
       "    </tr>\n",
       "  </tbody>\n",
       "</table>\n",
       "</div>"
      ],
      "text/plain": [
       "     Location  Year  Kilometers_Driven Fuel_Type Transmission  Owner_Type  \\\n",
       "0      Mumbai  2010              72000       CNG       Manual           1   \n",
       "1        Pune  2015              41000    Diesel       Manual           1   \n",
       "2     Chennai  2011              46000    Petrol       Manual           1   \n",
       "3     Chennai  2012              87000    Diesel       Manual           1   \n",
       "4  Coimbatore  2013              40670    Diesel    Automatic           2   \n",
       "\n",
       "      Mileage Engine  Power  Seats  Price    Brand   Model  \n",
       "0  26.6 km/kg    998  58.16    5.0   1.75   Maruti   Wagon  \n",
       "1  19.67 kmpl   1582  126.2    5.0  12.50  Hyundai   Creta  \n",
       "2   18.2 kmpl   1199   88.7    5.0   4.50    Honda    Jazz  \n",
       "3  20.77 kmpl   1248  88.76    7.0   6.00   Maruti  Ertiga  \n",
       "4   15.2 kmpl   1968  140.8    5.0  17.74     Audi      A4  "
      ]
     },
     "execution_count": 23,
     "metadata": {},
     "output_type": "execute_result"
    }
   ],
   "source": [
    "data.head()"
   ]
  },
  {
   "cell_type": "code",
   "execution_count": 24,
   "id": "398214d8",
   "metadata": {},
   "outputs": [],
   "source": [
    "def convert_mileage(mileage):\n",
    "    try:\n",
    "        new_mileage=float(mileage.split(\" \")[0])\n",
    "        if mileage.split(\" \")[1]=='km/kg':\n",
    "            new_mileage=new_mileage*0.74\n",
    "            return new_mileage   \n",
    "    except:\n",
    "        return np.nan"
   ]
  },
  {
   "cell_type": "code",
   "execution_count": 25,
   "id": "fd8053b4",
   "metadata": {},
   "outputs": [],
   "source": [
    "data['Mileage']=data['Mileage'].apply(convert_mileage)"
   ]
  },
  {
   "cell_type": "code",
   "execution_count": 26,
   "id": "63b6c137",
   "metadata": {},
   "outputs": [
    {
     "name": "stdout",
     "output_type": "stream",
     "text": [
      "<class 'pandas.core.frame.DataFrame'>\n",
      "Int64Index: 5975 entries, 0 to 6018\n",
      "Data columns (total 13 columns):\n",
      " #   Column             Non-Null Count  Dtype  \n",
      "---  ------             --------------  -----  \n",
      " 0   Location           5975 non-null   object \n",
      " 1   Year               5975 non-null   int64  \n",
      " 2   Kilometers_Driven  5975 non-null   int64  \n",
      " 3   Fuel_Type          5975 non-null   object \n",
      " 4   Transmission       5975 non-null   object \n",
      " 5   Owner_Type         5975 non-null   int64  \n",
      " 6   Mileage            66 non-null     float64\n",
      " 7   Engine             5975 non-null   object \n",
      " 8   Power              5975 non-null   object \n",
      " 9   Seats              5975 non-null   float64\n",
      " 10  Price              5975 non-null   float64\n",
      " 11  Brand              5975 non-null   object \n",
      " 12  Model              5975 non-null   object \n",
      "dtypes: float64(3), int64(3), object(7)\n",
      "memory usage: 653.5+ KB\n"
     ]
    }
   ],
   "source": [
    "data.info()"
   ]
  },
  {
   "cell_type": "code",
   "execution_count": 27,
   "id": "582734d0",
   "metadata": {},
   "outputs": [
    {
     "data": {
      "text/plain": [
       "Location              object\n",
       "Year                   int64\n",
       "Kilometers_Driven      int64\n",
       "Fuel_Type             object\n",
       "Transmission          object\n",
       "Owner_Type             int64\n",
       "Mileage              float64\n",
       "Engine                object\n",
       "Power                 object\n",
       "Seats                float64\n",
       "Price                float64\n",
       "Brand                 object\n",
       "Model                 object\n",
       "dtype: object"
      ]
     },
     "execution_count": 27,
     "metadata": {},
     "output_type": "execute_result"
    }
   ],
   "source": [
    "data.dtypes"
   ]
  },
  {
   "cell_type": "code",
   "execution_count": 28,
   "id": "28d720c1",
   "metadata": {},
   "outputs": [
    {
     "data": {
      "text/html": [
       "<div>\n",
       "<style scoped>\n",
       "    .dataframe tbody tr th:only-of-type {\n",
       "        vertical-align: middle;\n",
       "    }\n",
       "\n",
       "    .dataframe tbody tr th {\n",
       "        vertical-align: top;\n",
       "    }\n",
       "\n",
       "    .dataframe thead th {\n",
       "        text-align: right;\n",
       "    }\n",
       "</style>\n",
       "<table border=\"1\" class=\"dataframe\">\n",
       "  <thead>\n",
       "    <tr style=\"text-align: right;\">\n",
       "      <th></th>\n",
       "      <th>Location</th>\n",
       "      <th>Year</th>\n",
       "      <th>Kilometers_Driven</th>\n",
       "      <th>Fuel_Type</th>\n",
       "      <th>Transmission</th>\n",
       "      <th>Owner_Type</th>\n",
       "      <th>Mileage</th>\n",
       "      <th>Engine</th>\n",
       "      <th>Power</th>\n",
       "      <th>Seats</th>\n",
       "      <th>Price</th>\n",
       "      <th>Brand</th>\n",
       "      <th>Model</th>\n",
       "    </tr>\n",
       "  </thead>\n",
       "  <tbody>\n",
       "    <tr>\n",
       "      <th>1614</th>\n",
       "      <td>Hyderabad</td>\n",
       "      <td>2012</td>\n",
       "      <td>60788</td>\n",
       "      <td>Diesel</td>\n",
       "      <td>Manual</td>\n",
       "      <td>1</td>\n",
       "      <td>NaN</td>\n",
       "      <td>1396</td>\n",
       "      <td>90</td>\n",
       "      <td>5.0</td>\n",
       "      <td>4.5</td>\n",
       "      <td>Hyundai</td>\n",
       "      <td>i20</td>\n",
       "    </tr>\n",
       "  </tbody>\n",
       "</table>\n",
       "</div>"
      ],
      "text/plain": [
       "       Location  Year  Kilometers_Driven Fuel_Type Transmission  Owner_Type  \\\n",
       "1614  Hyderabad  2012              60788    Diesel       Manual           1   \n",
       "\n",
       "      Mileage Engine Power  Seats  Price    Brand Model  \n",
       "1614      NaN   1396    90    5.0    4.5  Hyundai   i20  "
      ]
     },
     "execution_count": 28,
     "metadata": {},
     "output_type": "execute_result"
    }
   ],
   "source": [
    "data.sample()"
   ]
  },
  {
   "cell_type": "code",
   "execution_count": 29,
   "id": "229bfb20",
   "metadata": {},
   "outputs": [],
   "source": [
    "data['Power']=pd.to_numeric(data['Power'],errors='coerce')"
   ]
  },
  {
   "cell_type": "code",
   "execution_count": 30,
   "id": "007f81c1",
   "metadata": {},
   "outputs": [],
   "source": [
    "data['Engine']=pd.to_numeric(data['Engine'],errors='coerce')"
   ]
  },
  {
   "cell_type": "code",
   "execution_count": 31,
   "id": "dc1198df",
   "metadata": {},
   "outputs": [
    {
     "data": {
      "text/html": [
       "<div>\n",
       "<style scoped>\n",
       "    .dataframe tbody tr th:only-of-type {\n",
       "        vertical-align: middle;\n",
       "    }\n",
       "\n",
       "    .dataframe tbody tr th {\n",
       "        vertical-align: top;\n",
       "    }\n",
       "\n",
       "    .dataframe thead th {\n",
       "        text-align: right;\n",
       "    }\n",
       "</style>\n",
       "<table border=\"1\" class=\"dataframe\">\n",
       "  <thead>\n",
       "    <tr style=\"text-align: right;\">\n",
       "      <th></th>\n",
       "      <th>Year</th>\n",
       "      <th>Kilometers_Driven</th>\n",
       "      <th>Owner_Type</th>\n",
       "      <th>Mileage</th>\n",
       "      <th>Engine</th>\n",
       "      <th>Power</th>\n",
       "      <th>Seats</th>\n",
       "      <th>Price</th>\n",
       "    </tr>\n",
       "  </thead>\n",
       "  <tbody>\n",
       "    <tr>\n",
       "      <th>count</th>\n",
       "      <td>5975.00</td>\n",
       "      <td>5975.00</td>\n",
       "      <td>5975.00</td>\n",
       "      <td>66.00</td>\n",
       "      <td>5975.00</td>\n",
       "      <td>5872.00</td>\n",
       "      <td>5975.00</td>\n",
       "      <td>5975.00</td>\n",
       "    </tr>\n",
       "    <tr>\n",
       "      <th>mean</th>\n",
       "      <td>2013.39</td>\n",
       "      <td>58674.31</td>\n",
       "      <td>1.20</td>\n",
       "      <td>18.13</td>\n",
       "      <td>1621.61</td>\n",
       "      <td>113.28</td>\n",
       "      <td>5.28</td>\n",
       "      <td>9.50</td>\n",
       "    </tr>\n",
       "    <tr>\n",
       "      <th>std</th>\n",
       "      <td>3.25</td>\n",
       "      <td>91558.51</td>\n",
       "      <td>0.45</td>\n",
       "      <td>4.60</td>\n",
       "      <td>601.04</td>\n",
       "      <td>53.88</td>\n",
       "      <td>0.81</td>\n",
       "      <td>11.21</td>\n",
       "    </tr>\n",
       "    <tr>\n",
       "      <th>min</th>\n",
       "      <td>1998.00</td>\n",
       "      <td>171.00</td>\n",
       "      <td>1.00</td>\n",
       "      <td>9.77</td>\n",
       "      <td>624.00</td>\n",
       "      <td>34.20</td>\n",
       "      <td>0.00</td>\n",
       "      <td>0.44</td>\n",
       "    </tr>\n",
       "    <tr>\n",
       "      <th>25%</th>\n",
       "      <td>2012.00</td>\n",
       "      <td>33908.00</td>\n",
       "      <td>1.00</td>\n",
       "      <td>14.36</td>\n",
       "      <td>1198.00</td>\n",
       "      <td>75.00</td>\n",
       "      <td>5.00</td>\n",
       "      <td>3.50</td>\n",
       "    </tr>\n",
       "    <tr>\n",
       "      <th>50%</th>\n",
       "      <td>2014.00</td>\n",
       "      <td>53000.00</td>\n",
       "      <td>1.00</td>\n",
       "      <td>19.39</td>\n",
       "      <td>1493.00</td>\n",
       "      <td>97.70</td>\n",
       "      <td>5.00</td>\n",
       "      <td>5.65</td>\n",
       "    </tr>\n",
       "    <tr>\n",
       "      <th>75%</th>\n",
       "      <td>2016.00</td>\n",
       "      <td>73000.00</td>\n",
       "      <td>1.00</td>\n",
       "      <td>19.68</td>\n",
       "      <td>1984.00</td>\n",
       "      <td>138.10</td>\n",
       "      <td>5.00</td>\n",
       "      <td>9.95</td>\n",
       "    </tr>\n",
       "    <tr>\n",
       "      <th>max</th>\n",
       "      <td>2019.00</td>\n",
       "      <td>6500000.00</td>\n",
       "      <td>4.00</td>\n",
       "      <td>24.82</td>\n",
       "      <td>5998.00</td>\n",
       "      <td>560.00</td>\n",
       "      <td>10.00</td>\n",
       "      <td>160.00</td>\n",
       "    </tr>\n",
       "  </tbody>\n",
       "</table>\n",
       "</div>"
      ],
      "text/plain": [
       "         Year  Kilometers_Driven  Owner_Type  Mileage  Engine   Power   Seats  \\\n",
       "count 5975.00            5975.00     5975.00    66.00 5975.00 5872.00 5975.00   \n",
       "mean  2013.39           58674.31        1.20    18.13 1621.61  113.28    5.28   \n",
       "std      3.25           91558.51        0.45     4.60  601.04   53.88    0.81   \n",
       "min   1998.00             171.00        1.00     9.77  624.00   34.20    0.00   \n",
       "25%   2012.00           33908.00        1.00    14.36 1198.00   75.00    5.00   \n",
       "50%   2014.00           53000.00        1.00    19.39 1493.00   97.70    5.00   \n",
       "75%   2016.00           73000.00        1.00    19.68 1984.00  138.10    5.00   \n",
       "max   2019.00         6500000.00        4.00    24.82 5998.00  560.00   10.00   \n",
       "\n",
       "        Price  \n",
       "count 5975.00  \n",
       "mean     9.50  \n",
       "std     11.21  \n",
       "min      0.44  \n",
       "25%      3.50  \n",
       "50%      5.65  \n",
       "75%      9.95  \n",
       "max    160.00  "
      ]
     },
     "execution_count": 31,
     "metadata": {},
     "output_type": "execute_result"
    }
   ],
   "source": [
    "# change float format\n",
    "pd.options.display.float_format = '{:.2f}'.format\n",
    "data.describe()"
   ]
  },
  {
   "cell_type": "code",
   "execution_count": 32,
   "id": "bf91e8ae",
   "metadata": {},
   "outputs": [],
   "source": [
    "data.drop(data[data['Kilometers_Driven']>100000].index , axis=0 , inplace=True)\n",
    "data.drop(data[data['Power'] > 480].index, axis = 0, inplace = True)\n",
    "data.drop(data[data['Engine'] > 5000].index, axis = 0, inplace = True)"
   ]
  },
  {
   "cell_type": "code",
   "execution_count": 33,
   "id": "46356e54",
   "metadata": {},
   "outputs": [
    {
     "data": {
      "text/html": [
       "<div>\n",
       "<style scoped>\n",
       "    .dataframe tbody tr th:only-of-type {\n",
       "        vertical-align: middle;\n",
       "    }\n",
       "\n",
       "    .dataframe tbody tr th {\n",
       "        vertical-align: top;\n",
       "    }\n",
       "\n",
       "    .dataframe thead th {\n",
       "        text-align: right;\n",
       "    }\n",
       "</style>\n",
       "<table border=\"1\" class=\"dataframe\">\n",
       "  <thead>\n",
       "    <tr style=\"text-align: right;\">\n",
       "      <th></th>\n",
       "      <th>Year</th>\n",
       "      <th>Kilometers_Driven</th>\n",
       "      <th>Owner_Type</th>\n",
       "      <th>Mileage</th>\n",
       "      <th>Engine</th>\n",
       "      <th>Power</th>\n",
       "      <th>Seats</th>\n",
       "      <th>Price</th>\n",
       "    </tr>\n",
       "  </thead>\n",
       "  <tbody>\n",
       "    <tr>\n",
       "      <th>count</th>\n",
       "      <td>5463.00</td>\n",
       "      <td>5463.00</td>\n",
       "      <td>5463.00</td>\n",
       "      <td>66.00</td>\n",
       "      <td>5463.00</td>\n",
       "      <td>5380.00</td>\n",
       "      <td>5463.00</td>\n",
       "      <td>5463.00</td>\n",
       "    </tr>\n",
       "    <tr>\n",
       "      <th>mean</th>\n",
       "      <td>2013.66</td>\n",
       "      <td>50031.60</td>\n",
       "      <td>1.18</td>\n",
       "      <td>18.13</td>\n",
       "      <td>1591.31</td>\n",
       "      <td>112.59</td>\n",
       "      <td>5.24</td>\n",
       "      <td>9.70</td>\n",
       "    </tr>\n",
       "    <tr>\n",
       "      <th>std</th>\n",
       "      <td>3.08</td>\n",
       "      <td>23291.58</td>\n",
       "      <td>0.43</td>\n",
       "      <td>4.60</td>\n",
       "      <td>574.10</td>\n",
       "      <td>52.39</td>\n",
       "      <td>0.75</td>\n",
       "      <td>11.27</td>\n",
       "    </tr>\n",
       "    <tr>\n",
       "      <th>min</th>\n",
       "      <td>1998.00</td>\n",
       "      <td>171.00</td>\n",
       "      <td>1.00</td>\n",
       "      <td>9.77</td>\n",
       "      <td>624.00</td>\n",
       "      <td>34.20</td>\n",
       "      <td>2.00</td>\n",
       "      <td>0.44</td>\n",
       "    </tr>\n",
       "    <tr>\n",
       "      <th>25%</th>\n",
       "      <td>2012.00</td>\n",
       "      <td>32000.00</td>\n",
       "      <td>1.00</td>\n",
       "      <td>14.36</td>\n",
       "      <td>1197.00</td>\n",
       "      <td>75.00</td>\n",
       "      <td>5.00</td>\n",
       "      <td>3.55</td>\n",
       "    </tr>\n",
       "    <tr>\n",
       "      <th>50%</th>\n",
       "      <td>2014.00</td>\n",
       "      <td>50000.00</td>\n",
       "      <td>1.00</td>\n",
       "      <td>19.39</td>\n",
       "      <td>1461.00</td>\n",
       "      <td>91.20</td>\n",
       "      <td>5.00</td>\n",
       "      <td>5.75</td>\n",
       "    </tr>\n",
       "    <tr>\n",
       "      <th>75%</th>\n",
       "      <td>2016.00</td>\n",
       "      <td>67000.00</td>\n",
       "      <td>1.00</td>\n",
       "      <td>19.68</td>\n",
       "      <td>1968.00</td>\n",
       "      <td>138.10</td>\n",
       "      <td>5.00</td>\n",
       "      <td>10.00</td>\n",
       "    </tr>\n",
       "    <tr>\n",
       "      <th>max</th>\n",
       "      <td>2019.00</td>\n",
       "      <td>100000.00</td>\n",
       "      <td>4.00</td>\n",
       "      <td>24.82</td>\n",
       "      <td>4951.00</td>\n",
       "      <td>450.00</td>\n",
       "      <td>10.00</td>\n",
       "      <td>160.00</td>\n",
       "    </tr>\n",
       "  </tbody>\n",
       "</table>\n",
       "</div>"
      ],
      "text/plain": [
       "         Year  Kilometers_Driven  Owner_Type  Mileage  Engine   Power   Seats  \\\n",
       "count 5463.00            5463.00     5463.00    66.00 5463.00 5380.00 5463.00   \n",
       "mean  2013.66           50031.60        1.18    18.13 1591.31  112.59    5.24   \n",
       "std      3.08           23291.58        0.43     4.60  574.10   52.39    0.75   \n",
       "min   1998.00             171.00        1.00     9.77  624.00   34.20    2.00   \n",
       "25%   2012.00           32000.00        1.00    14.36 1197.00   75.00    5.00   \n",
       "50%   2014.00           50000.00        1.00    19.39 1461.00   91.20    5.00   \n",
       "75%   2016.00           67000.00        1.00    19.68 1968.00  138.10    5.00   \n",
       "max   2019.00          100000.00        4.00    24.82 4951.00  450.00   10.00   \n",
       "\n",
       "        Price  \n",
       "count 5463.00  \n",
       "mean     9.70  \n",
       "std     11.27  \n",
       "min      0.44  \n",
       "25%      3.55  \n",
       "50%      5.75  \n",
       "75%     10.00  \n",
       "max    160.00  "
      ]
     },
     "execution_count": 33,
     "metadata": {},
     "output_type": "execute_result"
    }
   ],
   "source": [
    "# change float format\n",
    "pd.options.display.float_format = '{:.2f}'.format\n",
    "data.describe()"
   ]
  },
  {
   "cell_type": "code",
   "execution_count": 34,
   "id": "2c399ef8",
   "metadata": {},
   "outputs": [],
   "source": [
    "# Data Splitting\n",
    "#X = df.drop('Price', axis=1)\n",
    "X = data.drop(['Price', 'Brand'], axis=1)\n",
    "\n",
    "y = data.Price\n",
    "\n",
    "from sklearn.model_selection import train_test_split\n",
    "X_train, X_test, y_train, y_test = train_test_split(X, y, test_size=0.2, random_state=42)"
   ]
  },
  {
   "cell_type": "code",
   "execution_count": 35,
   "id": "07d557bf",
   "metadata": {},
   "outputs": [
    {
     "data": {
      "text/plain": [
       "Index(['Location', 'Year', 'Kilometers_Driven', 'Fuel_Type', 'Transmission',\n",
       "       'Owner_Type', 'Mileage', 'Engine', 'Power', 'Seats', 'Price', 'Brand',\n",
       "       'Model'],\n",
       "      dtype='object')"
      ]
     },
     "execution_count": 35,
     "metadata": {},
     "output_type": "execute_result"
    }
   ],
   "source": [
    "data.columns"
   ]
  },
  {
   "cell_type": "code",
   "execution_count": 36,
   "id": "220b1092",
   "metadata": {},
   "outputs": [],
   "source": [
    "# Data Preprocessing\n",
    "from category_encoders import BinaryEncoder\n",
    "from sklearn.impute import SimpleImputer\n",
    "from sklearn.preprocessing import StandardScaler\n",
    "from sklearn.pipeline import Pipeline\n",
    "from sklearn.compose import ColumnTransformer\n",
    "\n",
    "# Preprocessing for numerical data\n",
    "numerical_transformer = Pipeline(steps=[\n",
    "    ('imputer', SimpleImputer(strategy='median')),\n",
    "    ('scaler', StandardScaler())])\n",
    "\n",
    "# Preprocessing for categorical data\n",
    "categorical_transformer = Pipeline(steps=[('binary', BinaryEncoder())])\n",
    "\n",
    "# Bundle preprocessing for numerical and categorical data\n",
    "preprocessor = ColumnTransformer(\n",
    "    transformers=[\n",
    "        ('num', numerical_transformer, ['Year', 'Kilometers_Driven', 'Mileage', 'Engine', 'Power', 'Seats']),\n",
    "        ('cat', categorical_transformer, ['Location', 'Fuel_Type', 'Transmission', 'Owner_Type', 'Model'])])\n",
    "\n",
    "X_train_preprocessed = preprocessor.fit_transform(X_train)\n",
    "X_test_preprocessed = preprocessor.transform(X_test)"
   ]
  },
  {
   "cell_type": "code",
   "execution_count": 37,
   "id": "f51ee14b",
   "metadata": {},
   "outputs": [
    {
     "name": "stdout",
     "output_type": "stream",
     "text": [
      "RMSE: 5.191115391451057\n",
      "R2: 0.7693261756988365\n"
     ]
    }
   ],
   "source": [
    "# Model Building\n",
    "from sklearn.linear_model import LinearRegression\n",
    "\n",
    "# Linear Regression\n",
    "lr = LinearRegression()\n",
    "lr.fit(X_train_preprocessed, y_train)\n",
    "\n",
    "# Model Evaluation\n",
    "from sklearn.metrics import mean_squared_error, r2_score\n",
    "\n",
    "# Predictions\n",
    "y_pred = lr.predict(X_test_preprocessed)\n",
    "\n",
    "# Model Evaluation\n",
    "print('RMSE:', np.sqrt(mean_squared_error(y_test, y_pred)))\n",
    "print('R2:', r2_score(y_test, y_pred))"
   ]
  },
  {
   "cell_type": "code",
   "execution_count": 38,
   "id": "9ba2372b",
   "metadata": {},
   "outputs": [
    {
     "name": "stdout",
     "output_type": "stream",
     "text": [
      "RMSE: 5.190733265399747\n",
      "R2: 0.7693601349644952\n"
     ]
    }
   ],
   "source": [
    "# Ridge Regression\n",
    "from sklearn.linear_model import Ridge\n",
    "ridge=Ridge()\n",
    "ridge.fit(X_train_preprocessed, y_train)\n",
    "\n",
    "y_pred=ridge.predict(X_test_preprocessed)\n",
    "\n",
    "print('RMSE:', np.sqrt(mean_squared_error(y_test, y_pred)))\n",
    "print('R2:', r2_score(y_test, y_pred))"
   ]
  },
  {
   "cell_type": "code",
   "execution_count": 39,
   "id": "2b3987ff",
   "metadata": {},
   "outputs": [
    {
     "name": "stdout",
     "output_type": "stream",
     "text": [
      "RMSE: 3.298387200471713\n",
      "R2: 0.9068720113604614\n"
     ]
    }
   ],
   "source": [
    "#polynomial regression\n",
    "from sklearn.preprocessing import PolynomialFeatures\n",
    "from sklearn.pipeline import make_pipeline\n",
    "\n",
    "poly=make_pipeline(PolynomialFeatures(2),Ridge())\n",
    "poly.fit(X_train_preprocessed, y_train)\n",
    "\n",
    "y_pred=poly.predict(X_test_preprocessed)\n",
    "\n",
    "print('RMSE:', np.sqrt(mean_squared_error(y_test, y_pred)))\n",
    "print('R2:', r2_score(y_test, y_pred))"
   ]
  },
  {
   "cell_type": "code",
   "execution_count": 40,
   "id": "f0923447",
   "metadata": {},
   "outputs": [
    {
     "name": "stdout",
     "output_type": "stream",
     "text": [
      "RMSE: 0.2851374601659795\n",
      "R2: 0.8930012610506187\n"
     ]
    }
   ],
   "source": [
    "def log_transform(x):\n",
    "    return np.log(x)\n",
    "y_train_log=log_transform(y_train)\n",
    "y_test_log=log_transform(y_test)\n",
    "\n",
    "# Linear Regression\n",
    "lr = LinearRegression()\n",
    "lr.fit(X_train_preprocessed,y_train_log)\n",
    "\n",
    "y_pred = lr.predict(X_test_preprocessed)\n",
    "\n",
    "print('RMSE:', np.sqrt(mean_squared_error(y_test_log, y_pred)))\n",
    "print('R2:', r2_score(y_test_log, y_pred))"
   ]
  },
  {
   "cell_type": "code",
   "execution_count": 47,
   "id": "fc0e114e",
   "metadata": {},
   "outputs": [
    {
     "name": "stdout",
     "output_type": "stream",
     "text": [
      "RMSE: 12.672072024938505\n",
      "R2: 0.933675762365308\n"
     ]
    }
   ],
   "source": [
    "poly=make_pipeline(PolynomialFeatures(2),Ridge())\n",
    "poly.fit(X_train_preprocessed,y_train_log)\n",
    "\n",
    "y_pred=poly.predict(X_test_preprocessed)\n",
    "\n",
    "print('RMSE:', np.sqrt(mean_squared_error(y_test, y_pred)))\n",
    "print('R2:', r2_score(y_test_log, y_pred))  "
   ]
  },
  {
   "cell_type": "code",
   "execution_count": 48,
   "id": "bbd850f7",
   "metadata": {},
   "outputs": [],
   "source": [
    "# Preprocessor Saving\n",
    "import pickle\n",
    "pickle.dump(preprocessor, open('preprocessor.pkl', 'wb'))\n",
    "\n",
    "# Model Saving\n",
    "pickle.dump(poly, open('model.pkl', 'wb'))"
   ]
  },
  {
   "cell_type": "code",
   "execution_count": 49,
   "id": "4f5b8255",
   "metadata": {},
   "outputs": [],
   "source": [
    "# Inferencing\n",
    "\n",
    "# Load Preprocessor\n",
    "preprocessor = pickle.load(open('preprocessor.pkl', 'rb'))\n",
    "model = pickle.load(open('model.pkl', 'rb'))\n"
   ]
  },
  {
   "cell_type": "code",
   "execution_count": 50,
   "id": "8a46e1a3",
   "metadata": {},
   "outputs": [
    {
     "data": {
      "text/html": [
       "<div>\n",
       "<style scoped>\n",
       "    .dataframe tbody tr th:only-of-type {\n",
       "        vertical-align: middle;\n",
       "    }\n",
       "\n",
       "    .dataframe tbody tr th {\n",
       "        vertical-align: top;\n",
       "    }\n",
       "\n",
       "    .dataframe thead th {\n",
       "        text-align: right;\n",
       "    }\n",
       "</style>\n",
       "<table border=\"1\" class=\"dataframe\">\n",
       "  <thead>\n",
       "    <tr style=\"text-align: right;\">\n",
       "      <th></th>\n",
       "      <th>Location</th>\n",
       "      <th>Year</th>\n",
       "      <th>Kilometers_Driven</th>\n",
       "      <th>Fuel_Type</th>\n",
       "      <th>Transmission</th>\n",
       "      <th>Owner_Type</th>\n",
       "      <th>Mileage</th>\n",
       "      <th>Engine</th>\n",
       "      <th>Power</th>\n",
       "      <th>Seats</th>\n",
       "      <th>Model</th>\n",
       "    </tr>\n",
       "  </thead>\n",
       "  <tbody>\n",
       "    <tr>\n",
       "      <th>0</th>\n",
       "      <td>Mumbai</td>\n",
       "      <td>2017</td>\n",
       "      <td>72000</td>\n",
       "      <td>Diesel</td>\n",
       "      <td>Manual</td>\n",
       "      <td>1</td>\n",
       "      <td>25.00</td>\n",
       "      <td>1248</td>\n",
       "      <td>74.00</td>\n",
       "      <td>5.00</td>\n",
       "      <td>Swift</td>\n",
       "    </tr>\n",
       "  </tbody>\n",
       "</table>\n",
       "</div>"
      ],
      "text/plain": [
       "  Location  Year  Kilometers_Driven Fuel_Type Transmission  Owner_Type  \\\n",
       "0   Mumbai  2017              72000    Diesel       Manual           1   \n",
       "\n",
       "   Mileage  Engine  Power  Seats  Model  \n",
       "0    25.00    1248  74.00   5.00  Swift  "
      ]
     },
     "execution_count": 50,
     "metadata": {},
     "output_type": "execute_result"
    }
   ],
   "source": [
    "# Preprocessing\n",
    "new_data = {'Location': 'Mumbai', 'Year': 2017, 'Kilometers_Driven': 72000, 'Fuel_Type': 'Diesel', 'Transmission': 'Manual', 'Owner_Type': 'First', 'Mileage': 25.0, 'Engine': 1248, 'Power': 74.0, 'Seats': 5.0, 'Model': 'Swift'}\n",
    "new_data = pd.DataFrame(new_data, index=[0])\n",
    "new_data.Owner_Type = new_data.Owner_Type.map({'First':1, 'Second':2, 'Third':3, 'Fourth & Above':4})\n",
    "new_data"
   ]
  },
  {
   "cell_type": "code",
   "execution_count": 51,
   "id": "6b322442",
   "metadata": {},
   "outputs": [
    {
     "name": "stdout",
     "output_type": "stream",
     "text": [
      "Price: 5.585889363459736\n"
     ]
    }
   ],
   "source": [
    "# Prediction\n",
    "new_data_preprocessed = preprocessor.transform(new_data)\n",
    "log_price = model.predict(new_data_preprocessed) # in log scale\n",
    "price = np.exp(log_price) # in original scale\n",
    "\n",
    "print('Price:', price[0])"
   ]
  },
  {
   "cell_type": "code",
   "execution_count": 52,
   "id": "fb349ca7",
   "metadata": {},
   "outputs": [
    {
     "name": "stdout",
     "output_type": "stream",
     "text": [
      "Price in USD: 6809.199134057418\n"
     ]
    }
   ],
   "source": [
    "# From Lakhs to USD\n",
    "price_usd = price[0] * 1219\n",
    "print('Price in USD:', price_usd)"
   ]
  },
  {
   "cell_type": "code",
   "execution_count": null,
   "id": "71667b04",
   "metadata": {},
   "outputs": [],
   "source": []
  },
  {
   "cell_type": "code",
   "execution_count": null,
   "id": "7c5cdafc",
   "metadata": {},
   "outputs": [],
   "source": []
  },
  {
   "cell_type": "code",
   "execution_count": null,
   "id": "d126e870",
   "metadata": {},
   "outputs": [],
   "source": []
  },
  {
   "cell_type": "code",
   "execution_count": null,
   "id": "c88ffc1c",
   "metadata": {},
   "outputs": [],
   "source": []
  },
  {
   "cell_type": "code",
   "execution_count": null,
   "id": "da053c27",
   "metadata": {},
   "outputs": [],
   "source": []
  },
  {
   "cell_type": "code",
   "execution_count": null,
   "id": "b0513f26",
   "metadata": {},
   "outputs": [],
   "source": []
  },
  {
   "cell_type": "code",
   "execution_count": null,
   "id": "695d0d5b",
   "metadata": {},
   "outputs": [],
   "source": []
  },
  {
   "cell_type": "code",
   "execution_count": null,
   "id": "10ce5c8e",
   "metadata": {},
   "outputs": [],
   "source": []
  },
  {
   "cell_type": "code",
   "execution_count": null,
   "id": "092f3c7c",
   "metadata": {},
   "outputs": [],
   "source": []
  },
  {
   "cell_type": "code",
   "execution_count": null,
   "id": "afa062d3",
   "metadata": {},
   "outputs": [],
   "source": []
  },
  {
   "cell_type": "code",
   "execution_count": null,
   "id": "cfe60ecd",
   "metadata": {},
   "outputs": [],
   "source": []
  },
  {
   "cell_type": "code",
   "execution_count": null,
   "id": "cdaecec6",
   "metadata": {},
   "outputs": [],
   "source": []
  },
  {
   "cell_type": "code",
   "execution_count": null,
   "id": "8dfe3599",
   "metadata": {},
   "outputs": [],
   "source": []
  },
  {
   "cell_type": "code",
   "execution_count": null,
   "id": "ddd5e687",
   "metadata": {},
   "outputs": [],
   "source": []
  },
  {
   "cell_type": "code",
   "execution_count": null,
   "id": "029f7254",
   "metadata": {},
   "outputs": [],
   "source": []
  },
  {
   "cell_type": "code",
   "execution_count": null,
   "id": "8827a817",
   "metadata": {},
   "outputs": [],
   "source": []
  },
  {
   "cell_type": "code",
   "execution_count": null,
   "id": "034e245b",
   "metadata": {},
   "outputs": [],
   "source": []
  },
  {
   "cell_type": "code",
   "execution_count": null,
   "id": "a6a2e090",
   "metadata": {},
   "outputs": [],
   "source": []
  },
  {
   "cell_type": "code",
   "execution_count": null,
   "id": "120e637e",
   "metadata": {},
   "outputs": [],
   "source": []
  },
  {
   "cell_type": "code",
   "execution_count": null,
   "id": "e46ebd06",
   "metadata": {},
   "outputs": [],
   "source": []
  },
  {
   "cell_type": "code",
   "execution_count": null,
   "id": "cc4f52b2",
   "metadata": {},
   "outputs": [],
   "source": []
  },
  {
   "cell_type": "code",
   "execution_count": null,
   "id": "7aa49e90",
   "metadata": {},
   "outputs": [],
   "source": []
  },
  {
   "cell_type": "code",
   "execution_count": null,
   "id": "d01956a0",
   "metadata": {},
   "outputs": [],
   "source": []
  },
  {
   "cell_type": "code",
   "execution_count": null,
   "id": "9ed3a613",
   "metadata": {},
   "outputs": [],
   "source": []
  },
  {
   "cell_type": "code",
   "execution_count": null,
   "id": "fe3ff50e",
   "metadata": {},
   "outputs": [],
   "source": []
  },
  {
   "cell_type": "code",
   "execution_count": null,
   "id": "df335237",
   "metadata": {},
   "outputs": [],
   "source": []
  },
  {
   "cell_type": "code",
   "execution_count": null,
   "id": "ad16210b",
   "metadata": {},
   "outputs": [],
   "source": []
  },
  {
   "cell_type": "code",
   "execution_count": null,
   "id": "08c3a6d6",
   "metadata": {},
   "outputs": [],
   "source": []
  },
  {
   "cell_type": "code",
   "execution_count": null,
   "id": "a61529b4",
   "metadata": {},
   "outputs": [],
   "source": []
  },
  {
   "cell_type": "code",
   "execution_count": null,
   "id": "18dcfe6f",
   "metadata": {},
   "outputs": [],
   "source": []
  },
  {
   "cell_type": "code",
   "execution_count": null,
   "id": "a91eb2a9",
   "metadata": {},
   "outputs": [],
   "source": []
  },
  {
   "cell_type": "code",
   "execution_count": null,
   "id": "b2e26cc2",
   "metadata": {},
   "outputs": [],
   "source": []
  },
  {
   "cell_type": "code",
   "execution_count": null,
   "id": "6c47f956",
   "metadata": {},
   "outputs": [],
   "source": []
  },
  {
   "cell_type": "code",
   "execution_count": null,
   "id": "3e8c6e25",
   "metadata": {},
   "outputs": [],
   "source": []
  },
  {
   "cell_type": "code",
   "execution_count": null,
   "id": "71062972",
   "metadata": {},
   "outputs": [],
   "source": []
  },
  {
   "cell_type": "code",
   "execution_count": null,
   "id": "f585b306",
   "metadata": {},
   "outputs": [],
   "source": []
  },
  {
   "cell_type": "code",
   "execution_count": null,
   "id": "36ed965d",
   "metadata": {},
   "outputs": [],
   "source": []
  },
  {
   "cell_type": "code",
   "execution_count": null,
   "id": "26e64638",
   "metadata": {},
   "outputs": [],
   "source": []
  }
 ],
 "metadata": {
  "kernelspec": {
   "display_name": "Python 3 (ipykernel)",
   "language": "python",
   "name": "python3"
  },
  "language_info": {
   "codemirror_mode": {
    "name": "ipython",
    "version": 3
   },
   "file_extension": ".py",
   "mimetype": "text/x-python",
   "name": "python",
   "nbconvert_exporter": "python",
   "pygments_lexer": "ipython3",
   "version": "3.9.13"
  }
 },
 "nbformat": 4,
 "nbformat_minor": 5
}
